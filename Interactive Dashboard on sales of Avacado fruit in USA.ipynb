{
 "cells": [
  {
   "cell_type": "code",
   "execution_count": 1,
   "metadata": {},
   "outputs": [
    {
     "name": "stdout",
     "output_type": "stream",
     "text": [
      "Dash is running on http://127.0.0.1:8050/\n",
      "\n",
      " * Serving Flask app \"__main__\" (lazy loading)\n",
      " * Environment: production\n",
      "   WARNING: This is a development server. Do not use it in a production deployment.\n",
      "   Use a production WSGI server instead.\n",
      " * Debug mode: off\n"
     ]
    },
    {
     "name": "stderr",
     "output_type": "stream",
     "text": [
      " * Running on http://127.0.0.1:8050/ (Press CTRL+C to quit)\n",
      "127.0.0.1 - - [01/Mar/2022 04:09:23] \"\u001b[37mGET / HTTP/1.1\u001b[0m\" 200 -\n",
      "127.0.0.1 - - [01/Mar/2022 04:09:25] \"\u001b[37mGET /_dash-layout HTTP/1.1\u001b[0m\" 200 -\n",
      "127.0.0.1 - - [01/Mar/2022 04:09:25] \"\u001b[37mGET /_dash-dependencies HTTP/1.1\u001b[0m\" 200 -\n",
      "127.0.0.1 - - [01/Mar/2022 04:09:30] \"\u001b[37mPOST /_dash-update-component HTTP/1.1\u001b[0m\" 200 -\n"
     ]
    }
   ],
   "source": [
    "import pandas as pd\n",
    "import plotly.express as px\n",
    "import dash\n",
    "import dash_core_components as dcc\n",
    "import dash_html_components as html\n",
    "from dash.dependencies import Input, Output\n",
    "\n",
    "df=pd.read_csv('avocado-updated-2020.csv')\n",
    "\n",
    "app = dash.Dash(__name__)\n",
    "\n",
    "app.layout = html.Div(children=[\n",
    "    html.H1(children='Sales of Avacado in USA'),\n",
    "    \n",
    "    dcc.Dropdown(id='geo-location',\n",
    "                options=[{'label': i, 'value': i}\n",
    "                        for i in df['geography'].unique()],\n",
    "                value='Boston', style={'color':'black', 'background-color': 'light-green', 'width':'100%', 'className': 'six columns', 'display':'inline-block'}),\n",
    "    \n",
    "    \n",
    "        dcc.Graph(id='price-graph', className='six columns', style={'width':'100%'}),\n",
    "        dcc.Graph(id='volume-graph', className='six columns', style={'width':'100%'}),\n",
    "        dcc.Graph(id='bag-graph', className='six columns', style={'width':'60%', 'float':'left'}),\n",
    "        dcc.Graph(id='bags_kind_graph', className='six columns', style={'width':'40%','float':'right'})\n",
    "])\n",
    "\n",
    "\n",
    "\n",
    "@app.callback(\n",
    "    [Output(component_id='price-graph', component_property='figure'),\n",
    "     Output(component_id='volume-graph', component_property='figure'),\n",
    "     Output(component_id='bag-graph', component_property='figure'),\n",
    "     Output(component_id='bags_kind_graph', component_property='figure')],\n",
    "    Input(component_id='geo-location', component_property='value')\n",
    ")\n",
    "\n",
    "def update_graph(selected_geography):\n",
    "    filtered_df = df[df['geography'] == selected_geography]\n",
    "    fig = px.line(filtered_df,\n",
    "                 x='date', y='average_price',\n",
    "                 color='type', \n",
    "                 title=f'Avacado avg-prices in {selected_geography}')\n",
    "    fig2 = px.line(filtered_df,\n",
    "                  x='date', y='total_volume',\n",
    "                  color='type',\n",
    "                  title=f'Avacado Total volume in {selected_geography}')\n",
    "    fig3 = px.bar(filtered_df, \n",
    "                  x='year', y='total_bags', \n",
    "                  color='type', barmode='group', \n",
    "                  title=f'Avacado Total bags in {selected_geography}')\n",
    "    fig4 = px.pie(filtered_df,\n",
    "                 values='total_bags', names='type',\n",
    "                 title=f'Avacado total bags in {selected_geography}')\n",
    "    \n",
    "    \n",
    "    \n",
    "    return (fig, fig2, fig3, fig4)\n",
    "\n",
    "\n",
    "\n",
    "if __name__ == '__main__':\n",
    "    app.run_server()           "
   ]
  }
 ],
 "metadata": {
  "kernelspec": {
   "display_name": "Python 3",
   "language": "python",
   "name": "python3"
  },
  "language_info": {
   "codemirror_mode": {
    "name": "ipython",
    "version": 3
   },
   "file_extension": ".py",
   "mimetype": "text/x-python",
   "name": "python",
   "nbconvert_exporter": "python",
   "pygments_lexer": "ipython3",
   "version": "3.8.5"
  }
 },
 "nbformat": 4,
 "nbformat_minor": 4
}
